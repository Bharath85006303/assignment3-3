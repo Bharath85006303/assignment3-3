{
 "cells": [
  {
   "cell_type": "code",
   "execution_count": null,
   "id": "dc9fed96",
   "metadata": {},
   "outputs": [],
   "source": [
    "def find(x):\n",
    "    lower_casecount=0\n",
    "    upper_casecount=0\n",
    "    for i in x:\n",
    "        if i.isupper()==1:\n",
    "            upper_casecount= upper_casecount+1\n",
    "        print(\"the value is \", upper_casecount)\n",
    "        if i.islower()==1:\n",
    "            lower_casecount= lower_casecount+1\n",
    "        print(\"the value is \", lower_casecount)\n",
    "y=input()\n",
    "print(find(y))\n",
    "\n",
    "    "
   ]
  }
 ],
 "metadata": {
  "kernelspec": {
   "display_name": "Python 3 (ipykernel)",
   "language": "python",
   "name": "python3"
  },
  "language_info": {
   "codemirror_mode": {
    "name": "ipython",
    "version": 3
   },
   "file_extension": ".py",
   "mimetype": "text/x-python",
   "name": "python",
   "nbconvert_exporter": "python",
   "pygments_lexer": "ipython3",
   "version": "3.9.12"
  }
 },
 "nbformat": 4,
 "nbformat_minor": 5
}
